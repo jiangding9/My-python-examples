{
 "cells": [
  {
   "cell_type": "code",
   "execution_count": 1,
   "id": "cdad9773",
   "metadata": {},
   "outputs": [],
   "source": [
    "#1. 输入库\n",
    "import numpy as np\n",
    "import pandas as pd\n",
    "\n",
    "#2. 打开d带中心数据\n",
    "with open('ML_DATA.csv', encoding = 'UTF-8') as f:\n",
    "    df = pd.read_csv(f, index_col = 0)  #index_col=0 告诉第一列是索引\n",
    "\n",
    "#剔除描述符\n",
    "excluded = ['D1','D2','D5','D6','D7','D8','D9','D10','D12','D13','D14','D18','D21','D25']\n",
    "df_new = df.drop(excluded, axis = 1)\n",
    "\n",
    "#如果考虑删除某些点，用下面的命令\n",
    "#excluded_row = [19, 21]\n",
    "#df_new = df_new.drop(excluded_row, axis=0)\n",
    "\n",
    "\n",
    "#设置自变量和因变量\n",
    "y = df_new['y'].values\n",
    "X_1 = df_new.drop('y', axis = 1)\n",
    "\n",
    "#归一化\n",
    "df = pd.DataFrame(X_1)\n",
    "X = df.apply(lambda x: (x - np.min(x)) / (np.max(x) - np.min(x)))\n",
    "\n",
    "#切割数据\n",
    "from sklearn.model_selection import train_test_split\n",
    "\n",
    "X_train, X_test, y_train, y_test = train_test_split(X, y, test_size = 0.2,\n",
    "                                                   random_state = 1)    # 把样品分为测试和验证集，用split进行分割，测试集的比例为0.2，random_state意思是随机切割、抽取"
   ]
  },
  {
   "cell_type": "markdown",
   "id": "d5bfbd55",
   "metadata": {},
   "source": [
    "1. 进行随机森林算法【不交叉验证】"
   ]
  },
  {
   "cell_type": "code",
   "execution_count": 2,
   "id": "ad9eaa96",
   "metadata": {},
   "outputs": [],
   "source": [
    "from sklearn import tree\n",
    "from sklearn.metrics import mean_squared_error\n",
    "import numpy as np\n",
    "\n",
    "clf = tree.DecisionTreeRegressor()  #进行决策树回归\n",
    "clf = clf.fit(X_train, y_train)   #进行拟合\n",
    "\n",
    "\n",
    "y_pred_train_clf = clf.predict(X_train)\n",
    "y_pred_test_clf = clf.predict(X_test)"
   ]
  },
  {
   "cell_type": "code",
   "execution_count": 3,
   "id": "33e427a7",
   "metadata": {},
   "outputs": [
    {
     "name": "stdout",
     "output_type": "stream",
     "text": [
      "training R2 = 1.000\n",
      "test R2 = -1.592\n",
      "RMSE(training)0.000\n",
      "RMSE(test)13.441\n"
     ]
    },
    {
     "data": {
      "image/png": "[encoded data removed]",
      "text/plain": [
       "<Figure size 360x360 with 1 Axes>"
      ]
     },
     "metadata": {
      "needs_background": "light"
     },
     "output_type": "display_data"
    }
   ],
   "source": [
    "#作图\n",
    "import matplotlib.pyplot as plt\n",
    "\n",
    "plt.figure(figsize = (5, 5))\n",
    "plt.scatter(y_train, y_pred_train_clf, alpha = 0.5, color = 'blue', label = 'training')\n",
    "plt.scatter(y_test, y_pred_test_clf, alpha = 0.5, color = 'red', label = 'test')\n",
    "plt.legend()\n",
    "plt.xlabel('$ΔH_P$', fontsize=15, fontname='Times New Roman')\n",
    "plt.ylabel('predict')\n",
    "\n",
    "plt.savefig(r'C:/Users/Administrator.DESKTOP-CDML10A/Desktop/决策树不交叉验证.tiff', dpi = 360)\n",
    "\n",
    "#10. 算均方误差\n",
    "from sklearn.metrics import mean_squared_error #引用均方差\n",
    "\n",
    "print('training R2 = %.3f' %clf.score(X_train, y_train))\n",
    "print('test R2 = %.3f' %clf.score(X_test, y_test))\n",
    "rmse_tr_clf = mean_squared_error(y_train, y_pred_train_clf, squared = False) #squared = False 是表示对均方差求根，及得到均方根误差\n",
    "rmse_te_clf = mean_squared_error(y_test, y_pred_test_clf, squared = False)\n",
    "print('RMSE(training)%.3f'%rmse_tr_clf)\n",
    "print('RMSE(test)%.3f'%rmse_te_clf)"
   ]
  },
  {
   "cell_type": "markdown",
   "id": "dd458485",
   "metadata": {},
   "source": [
    "2. 进行决策树回归算法【10折交叉验证】"
   ]
  },
  {
   "cell_type": "code",
   "execution_count": 12,
   "id": "18fdbe3f",
   "metadata": {},
   "outputs": [
    {
     "name": "stdout",
     "output_type": "stream",
     "text": [
      "Cross-validation results:\n",
      "Fold: 7, mean R2: -2.573\n",
      "Fold: 7, mean RMSE: 14.649\n"
     ]
    }
   ],
   "source": [
    "#进行决策树算法\n",
    "from sklearn.ensemble import RandomForestRegressor\n",
    "\n",
    "clf = tree.DecisionTreeRegressor()  #进行决策树回归\n",
    "clf = clf.fit(X, y)   #进行拟合\n",
    "\n",
    "from sklearn.model_selection import KFold, cross_val_score\n",
    "\n",
    "crossvalidation = KFold(n_splits = 7, shuffle = True)  #shuffle是进行打乱的意思，在交叉验证之前进行打乱\n",
    "r2_scores = cross_val_score(clf, X, y, scoring = 'r2', cv = crossvalidation)  #cv是分类方式，这里是交叉验证\n",
    "rmse_scores = cross_val_score(clf, X, y, scoring = 'neg_root_mean_squared_error',\n",
    "                             cv = crossvalidation)\n",
    "\n",
    "print('Cross-validation results:')\n",
    "print('Fold: %i, mean R2: %.3f' %(len(r2_scores), np.mean(r2_scores)))\n",
    "print('Fold: %i, mean RMSE: %.3f' %(len(rmse_scores), -np.mean(rmse_scores)))"
   ]
  },
  {
   "cell_type": "code",
   "execution_count": 13,
   "id": "9ab6577a",
   "metadata": {},
   "outputs": [],
   "source": [
    "from sklearn.model_selection import cross_val_predict\n",
    "y_cv = cross_val_predict(clf, X, y, cv = crossvalidation)"
   ]
  },
  {
   "cell_type": "code",
   "execution_count": 14,
   "id": "7855c797",
   "metadata": {},
   "outputs": [
    {
     "data": {
      "image/png": "[encoded data removed]",
      "text/plain": [
       "<Figure size 360x360 with 1 Axes>"
      ]
     },
     "metadata": {
      "needs_background": "light"
     },
     "output_type": "display_data"
    }
   ],
   "source": [
    "plt.figure(figsize = (5, 5))\n",
    "plt.plot([-55, 10], [-55, 10], 'r--')\n",
    "plt.scatter(y, y_cv, s = 80, edgecolor = 'k', alpha = 0.7)\n",
    "\n",
    "plt.savefig(r'C:/Users/Administrator.DESKTOP-CDML10A/Desktop/决策树7折交叉验证.tiff', dpi = 360)"
   ]
  },
  {
   "cell_type": "code",
   "execution_count": null,
   "id": "6a541f9c",
   "metadata": {},
   "outputs": [],
   "source": []
  }
 ],
 "metadata": {
  "kernelspec": {
   "display_name": "Python 3",
   "language": "python",
   "name": "python3"
  },
  "language_info": {
   "codemirror_mode": {
    "name": "ipython",
    "version": 3
   },
   "file_extension": ".py",
   "mimetype": "text/x-python",
   "name": "python",
   "nbconvert_exporter": "python",
   "pygments_lexer": "ipython3",
   "version": "3.8.8"
  }
 },
 "nbformat": 4,
 "nbformat_minor": 5
}
