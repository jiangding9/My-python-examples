{
 "cells": [
  {
   "cell_type": "code",
   "execution_count": null,
   "id": "9492ab12",
   "metadata": {},
   "outputs": [],
   "source": [
    "from sklearn.compose import ColumnTransformer\n",
    "from sklearn.preprocessing import OneHotEncoder, StandardScaler\n",
    "from sklearn.pipeline import Pipeline\n",
    "\n",
    "# 创建分类数据的预处理管道\n",
    "categorical_transformer = Pipeline(steps=[\n",
    "    ('imputer', SimpleImputer(strategy='constant', fill_value='missing')),  # 处理缺失值\n",
    "    ('onehot', OneHotEncoder())  # 应用独热编码\n",
    "])\n",
    "\n",
    "# 创建数值数据的预处理管道\n",
    "numeric_transformer = Pipeline(steps=[\n",
    "    ('imputer', SimpleImputer(strategy='median')),  # 处理缺失值\n",
    "    ('scaler', StandardScaler())  # 标准化数值数据\n",
    "])\n",
    "\n",
    "# 创建一个ColumnTransformer来同时处理分类和数值数据\n",
    "preprocessor = ColumnTransformer(\n",
    "    transformers=[\n",
    "        ('num', numeric_transformer, col_num),\n",
    "        ('cat', categorical_transformer, col_cat)\n",
    "    ]\n",
    ")\n",
    "\n",
    "# 现在你可以将这个preprocessor用于拟合和转换训练数据，以及转换测试数据\n",
    "X_train_prepared = preprocessor.fit_transform(X_train)\n",
    "X_test_prepared = preprocessor.transform(X_test)\n"
   ]
  },
  {
   "cell_type": "markdown",
   "id": "99ec2014",
   "metadata": {},
   "source": [
    "应用预处理\n",
    "这种分离允许您对每种类型的数据应用最合适的预处理方法。例如：\n",
    "\n",
    "对分类数据：您可以使用 OneHotEncoder 来转换这些文本数据为机器学习模型可以处理的数值格式。\n",
    "对数值数据：您可能需要应用标准化或归一化，如使用 StandardScaler 或 MinMaxScaler，以确保模型不会因为特征的量级不同而偏向某些特征。"
   ]
  }
 ],
 "metadata": {
  "kernelspec": {
   "display_name": "Python 3",
   "language": "python",
   "name": "python3"
  },
  "language_info": {
   "codemirror_mode": {
    "name": "ipython",
    "version": 3
   },
   "file_extension": ".py",
   "mimetype": "text/x-python",
   "name": "python",
   "nbconvert_exporter": "python",
   "pygments_lexer": "ipython3",
   "version": "3.8.8"
  }
 },
 "nbformat": 4,
 "nbformat_minor": 5
}
