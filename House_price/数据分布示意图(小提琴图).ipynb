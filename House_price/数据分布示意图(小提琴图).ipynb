{
 "cells": [
  {
   "cell_type": "code",
   "execution_count": 25,
   "id": "6d0cf7ff",
   "metadata": {},
   "outputs": [
    {
     "name": "stderr",
     "output_type": "stream",
     "text": [
      "C:\\Users\\Administrator.DESKTOP-CDML10A\\AppData\\Roaming\\Python\\Python38\\site-packages\\sklearn\\utils\\deprecation.py:87: FutureWarning: Function get_feature_names is deprecated; get_feature_names is deprecated in 1.0 and will be removed in 1.2. Please use get_feature_names_out instead.\n",
      "  warnings.warn(msg, category=FutureWarning)\n"
     ]
    }
   ],
   "source": [
    "import pandas as pd\n",
    "from sklearn.preprocessing import OneHotEncoder, StandardScaler\n",
    "from sklearn.impute import SimpleImputer\n",
    "from sklearn.compose import ColumnTransformer\n",
    "from sklearn.pipeline import Pipeline\n",
    "\n",
    "# 加载数据\n",
    "house = fetch_openml(name='house_prices', as_frame=True)\n",
    "data = house.data\n",
    "target = house.target\n",
    "\n",
    "# 分割训练和测试数据\n",
    "X_train, X_test, y_train, y_test = train_test_split(data, target, test_size=0.2, random_state=2)\n",
    "\n",
    "# 创建一个列变换器，对不同类型的列使用不同的处理\n",
    "preprocessor = ColumnTransformer(\n",
    "    transformers=[\n",
    "        ('num', Pipeline([\n",
    "            ('imputer', SimpleImputer(strategy='mean')),\n",
    "            ('scaler', MinMaxScaler())      #MinMaxScaler()是归一化，而不是标准化，这里要注意，归准化应该写‘StandardScaler()’\n",
    "        ]), num_columns),\n",
    "        ('cat', Pipeline([\n",
    "            ('imputer', SimpleImputer(strategy='constant', fill_value='missing')),\n",
    "            ('onehot', OneHotEncoder(handle_unknown='ignore'))\n",
    "        ]), cat_columns)\n",
    "    ])\n",
    "\n",
    "# 应用预处理\n",
    "X_train_preprocessed = preprocessor.fit_transform(X_train)\n",
    "X_test_preprocessed = preprocessor.transform(X_test)\n",
    "\n",
    "# 获取列名，数值列和独热编码的类别列\n",
    "num_feature_names = num_columns\n",
    "cat_feature_names = preprocessor.named_transformers_['cat'].named_steps['onehot'].get_feature_names(cat_columns)\n",
    "\n",
    "# 将列名合并\n",
    "all_feature_names = num_feature_names + list(cat_feature_names)\n",
    "\n",
    "# 如果需要，将稀疏矩阵转换回DataFrame\n",
    "#X_train_df = pd.DataFrame(X_train_preprocessed, columns=all_feature_names)\n",
    "#X_test_df = pd.DataFrame(X_test_preprocessed, columns=all_feature_names)\n",
    "\n",
    "X_train_df = pd.DataFrame(X_train_preprocessed.toarray(), columns=all_feature_names)\n",
    "X_test_df = pd.DataFrame(X_test_preprocessed.toarray(), columns=all_feature_names)\n"
   ]
  },
  {
   "cell_type": "markdown",
   "id": "baa1f119",
   "metadata": {},
   "source": [
    "X_train_df"
   ]
  },
  {
   "cell_type": "code",
   "execution_count": 27,
   "id": "19e9b403",
   "metadata": {},
   "outputs": [
    {
     "name": "stdout",
     "output_type": "stream",
     "text": [
      "         Id  MSSubClass  LotFrontage   LotArea  OverallQual  OverallCond  \\\n",
      "0  0.311857    0.000000     0.202055  0.037999     0.666667        0.625   \n",
      "1  0.591501    0.000000     0.167808  0.030192     0.444444        0.500   \n",
      "2  0.345442    0.823529     0.010274  0.003887     0.555556        0.500   \n",
      "3  0.968472    0.000000     0.229452  0.044520     0.777778        0.500   \n",
      "4  0.952022    0.176471     0.133562  0.021158     0.555556        0.625   \n",
      "\n",
      "   YearBuilt  YearRemodAdd  MasVnrArea  BsmtFinSF1  ...  SaleType_New  \\\n",
      "0   0.731884      0.383333     0.20000    0.162296  ...           0.0   \n",
      "1   0.630435      0.150000     0.00000    0.203402  ...           0.0   \n",
      "2   0.739130      0.400000     0.00000    0.045535  ...           0.0   \n",
      "3   0.963768      0.933333     0.22875    0.172927  ...           0.0   \n",
      "4   0.500000      0.000000     0.00000    0.066442  ...           0.0   \n",
      "\n",
      "   SaleType_Oth  SaleType_WD  SaleCondition_Abnorml  SaleCondition_AdjLand  \\\n",
      "0           0.0          1.0                    0.0                    0.0   \n",
      "1           0.0          1.0                    0.0                    0.0   \n",
      "2           0.0          1.0                    0.0                    0.0   \n",
      "3           0.0          0.0                    1.0                    0.0   \n",
      "4           0.0          1.0                    0.0                    0.0   \n",
      "\n",
      "   SaleCondition_Alloca  SaleCondition_Family  SaleCondition_Normal  \\\n",
      "0                   0.0                   0.0                   1.0   \n",
      "1                   0.0                   0.0                   1.0   \n",
      "2                   0.0                   0.0                   1.0   \n",
      "3                   0.0                   0.0                   0.0   \n",
      "4                   0.0                   0.0                   1.0   \n",
      "\n",
      "   SaleCondition_Partial         y  \n",
      "0                    0.0  0.195251  \n",
      "1                    0.0  0.135537  \n",
      "2                    0.0  0.155673  \n",
      "3                    0.0  0.308429  \n",
      "4                    0.0  0.133454  \n",
      "\n",
      "[5 rows x 304 columns]\n"
     ]
    }
   ],
   "source": [
    "# 合并训练集和测试集的特征数据\n",
    "X = pd.concat([X_train_df, X_test_df], ignore_index=True)\n",
    "\n",
    "# 合并训练集和测试集的目标变量\n",
    "y = pd.concat([pd.Series(y_train), pd.Series(y_test)], ignore_index=True)\n",
    "\n",
    "# 初始化归一化器\n",
    "from sklearn.preprocessing import MinMaxScaler\n",
    "scaler = MinMaxScaler()\n",
    "\n",
    "# 归一化 y\n",
    "# 注意，MinMaxScaler().fit_transform() 需要一个2D array，因此我们使用 y.values.reshape(-1, 1) 来转换 y\n",
    "y_normalized = scaler.fit_transform(y.values.reshape(-1, 1))\n",
    "# 将归一化后的 y 转换回 Pandas Series\n",
    "y_normalized = pd.Series(y_normalized.flatten())  # 使用 flatten() 来将数组从2D转换为1D\n",
    "\n",
    "# 将目标变量 'y' 添加到特征数据集 'X'，并命名为 'SalePrice' 或其他适当的列名\n",
    "X_plus_y = X\n",
    "X_plus_y['y'] = y_normalized\n",
    "\n",
    "# 重命名DataFrame，含义上更清晰\n",
    "data_new = X_plus_y\n",
    "\n",
    "# 显示结果\n",
    "print(data_new.head())"
   ]
  },
  {
   "cell_type": "code",
   "execution_count": 29,
   "id": "05a16bb9",
   "metadata": {},
   "outputs": [
    {
     "data": {
      "image/png": "[encoded data removed]",
      "text/plain": [
       "<Figure size 720x432 with 1 Axes>"
      ]
     },
     "metadata": {
      "needs_background": "light"
     },
     "output_type": "display_data"
    }
   ],
   "source": [
    "import pandas as pd\n",
    "import seaborn as sns\n",
    "import matplotlib.pyplot as plt\n",
    "\n",
    "# 选择特定的变量\n",
    "selected_data = data_new[['MSSubClass', 'LotArea','MoSold', 'y']]\n",
    "\n",
    "# 剔除缺失值，因为小提琴图无法处理缺失值\n",
    "selected_data = selected_data.dropna()\n",
    "\n",
    "# 制作小提琴图\n",
    "plt.figure(figsize=(10, 6))\n",
    "sns.violinplot(data=selected_data)\n",
    "plt.title('Violin Plot of Lot Area and Sale Price')\n",
    "plt.show()"
   ]
  },
  {
   "cell_type": "code",
   "execution_count": null,
   "id": "61e7abf2",
   "metadata": {},
   "outputs": [],
   "source": []
  }
 ],
 "metadata": {
  "kernelspec": {
   "display_name": "Python 3",
   "language": "python",
   "name": "python3"
  },
  "language_info": {
   "codemirror_mode": {
    "name": "ipython",
    "version": 3
   },
   "file_extension": ".py",
   "mimetype": "text/x-python",
   "name": "python",
   "nbconvert_exporter": "python",
   "pygments_lexer": "ipython3",
   "version": "3.8.8"
  }
 },
 "nbformat": 4,
 "nbformat_minor": 5
}
